{
 "cells": [
  {
   "cell_type": "code",
   "execution_count": 1,
   "metadata": {},
   "outputs": [],
   "source": [
    "import os\n",
    "import numpy as np\n",
    "import torch"
   ]
  },
  {
   "cell_type": "code",
   "execution_count": 2,
   "metadata": {},
   "outputs": [],
   "source": [
    "from torch.utils.data import DataLoader\n",
    "from generate_data import generate_mec_data\n",
    "from utils import load_model\n",
    "from problems import MEC"
   ]
  },
  {
   "cell_type": "code",
   "execution_count": 3,
   "metadata": {},
   "outputs": [],
   "source": [
    "# 定义 plot\n",
    "%matplotlib inline\n",
    "from matplotlib import pyplot as plt\n",
    "\n",
    "from matplotlib.collections import PatchCollection\n",
    "from matplotlib.patches import Rectangle\n",
    "from matplotlib.lines import Line2D\n",
    "\n",
    "# Code inspired by Google OR Tools plot:\n",
    "# https://github.com/google/or-tools/blob/fb12c5ded7423d524fc6c95656a9bdc290a81d4d/examples/python/cvrptw_plot.py\n",
    "\n",
    "def plot_mec(data, tour, ax):\n",
    "    \n",
    "    depot = data['UAV_start_pos'].cpu().numpy().tolist()\n",
    "    locs = data['task_position'].cpu().numpy().tolist()\n",
    "    tour = tour.cpu().numpy().tolist()\n",
    "    \n",
    "    loc = depot + locs\n",
    "    tour = [0] + tour \n",
    "    # 提取按照 tour 顺序排列的坐标\n",
    "    x_vals = [loc[i][0] for i in tour]\n",
    "    y_vals = [loc[i][1] for i in tour]\n",
    "    \n",
    "    # 绘制路径线\n",
    "    ax.plot(x_vals, y_vals, marker='o', linestyle='-', color='b', label='Path')\n",
    "\n",
    "    # 可选: 在每对相邻的点之间绘制箭头\n",
    "    for i in range(len(tour) - 1):\n",
    "        x_start, y_start = loc[tour[i]]\n",
    "        x_end, y_end = loc[tour[i+1]]\n",
    "        \n",
    "        # 在两个点之间画箭头，箭头的大小和样式可以调整\n",
    "        ax.annotate('', xy=(x_end, y_end), xytext=(x_start, y_start),\n",
    "                    arrowprops=dict(facecolor='black', edgecolor='black', arrowstyle='->', lw=2, mutation_scale=20))\n",
    "\n",
    "    # 可选: 标注每个点\n",
    "    for i, (x, y) in enumerate(zip(x_vals, y_vals)):\n",
    "        ax.text(x, y, f'{tour[i]}', fontsize=30, ha='right', color='red')\n",
    "    \n",
    "    # 可选: 绘制第一个和最后一个点的线段，表示起点和终点\n",
    "    ax.plot([x_vals[0], x_vals[-1]], [y_vals[0], y_vals[-1]], '-', label='Start-End')\n",
    "    \n",
    "    ax.set_xlabel('X')\n",
    "    ax.set_ylabel('Y')\n",
    "    ax.set_title('MEC Path with Arrows')\n",
    "    ax.legend()\n"
   ]
  },
  {
   "cell_type": "code",
   "execution_count": 4,
   "metadata": {},
   "outputs": [],
   "source": [
    "# 获得符合约束的拓扑学排序\n",
    "from collections import defaultdict\n",
    "def all_topological_sorts(n, dep):\n",
    "   \n",
    "    graph = defaultdict(list)\n",
    "    in_degree = [0] * (n + 1) \n",
    "    for i in range(len(dep)-1):\n",
    "        u, v = dep[i], dep[i + 1]\n",
    "        graph[u].append(v)\n",
    "        in_degree[v] += 1\n",
    "   \n",
    "    result = []\n",
    "    current_sort = []\n",
    "    \n",
    "    zero_in_degree_nodes = {i for i in range(1, n + 1) if in_degree[i] == 0}\n",
    "    \n",
    "    def backtrack():\n",
    "        if len(current_sort) == n:\n",
    "            result.append(current_sort[:])\n",
    "            return\n",
    "        for node in list(zero_in_degree_nodes):\n",
    "            current_sort.append(node)\n",
    "            zero_in_degree_nodes.remove(node)\n",
    "            for neighbor in graph[node]:\n",
    "                in_degree[neighbor] -= 1\n",
    "                if in_degree[neighbor] == 0:\n",
    "                    zero_in_degree_nodes.add(neighbor)\n",
    "            backtrack()\n",
    "            current_sort.pop()\n",
    "            for neighbor in graph[node]:\n",
    "                in_degree[neighbor] += 1\n",
    "                if in_degree[neighbor] == 1:\n",
    "                    zero_in_degree_nodes.remove(neighbor)\n",
    "                elif in_degree[neighbor] == 0:\n",
    "                    zero_in_degree_nodes.add(neighbor)\n",
    "            zero_in_degree_nodes.add(node)\n",
    "    backtrack()\n",
    "    \n",
    "    return result\n"
   ]
  },
  {
   "cell_type": "code",
   "execution_count": 5,
   "metadata": {},
   "outputs": [],
   "source": [
    "# 求 loss\n",
    "from demopts import *\n",
    "from demopts import getloss"
   ]
  },
  {
   "cell_type": "code",
   "execution_count": 6,
   "metadata": {},
   "outputs": [],
   "source": [
    "# 求最优解 (穷举)\n",
    "def chechformodel(data):\n",
    "    dependency = (data[\"dependencys\"]+1).cpu().numpy().tolist()\n",
    "    n = data[\"task_data\"].size(0)\n",
    "    paths = all_topological_sorts(n, dependency)\n",
    "    best_loss = math.inf\n",
    "    best_p = paths[0]\n",
    "    best_ps = [best_p]\n",
    "    for p in paths:\n",
    "       loss = getloss(data,p)\n",
    "       if loss < best_loss:\n",
    "        best_loss = loss\n",
    "        best_p = p\n",
    "        best_ps = [p]\n",
    "       elif loss == best_loss:\n",
    "        best_ps += [p]\n",
    "\n",
    "    print(\"the fact best loss : \", best_loss)\n",
    "    print(\"the fact best tours : \")    \n",
    "    for p in best_ps:\n",
    "       print(p)    \n",
    "    "
   ]
  },
  {
   "cell_type": "code",
   "execution_count": 7,
   "metadata": {},
   "outputs": [
    {
     "name": "stderr",
     "output_type": "stream",
     "text": [
      "d:\\ML\\attention-learn-to-route-master\\AttentionMyTSP_czy\\attention-learn-to-route-master\\utils\\functions.py:24: FutureWarning: You are using `torch.load` with `weights_only=False` (the current default value), which uses the default pickle module implicitly. It is possible to construct malicious pickle data which will execute arbitrary code during unpickling (See https://github.com/pytorch/pytorch/blob/main/SECURITY.md#untrusted-models for more details). In a future release, the default value for `weights_only` will be flipped to `True`. This limits the functions that could be executed during unpickling. Arbitrary objects will no longer be allowed to be loaded via this mode unless they are explicitly allowlisted by the user via `torch.serialization.add_safe_globals`. We recommend you start setting `weights_only=True` for any use case where you don't have full control of the loaded file. Please open an issue on GitHub for any issues related to this experimental feature.\n",
      "  return torch.load(load_path, map_location=lambda storage, loc: storage)  # Load on CPU\n"
     ]
    },
    {
     "name": "stdout",
     "output_type": "stream",
     "text": [
      "  [*] Loading model from outputs/mec_4/demo_4_20241205T222731/epoch-99.pt\n"
     ]
    },
    {
     "name": "stderr",
     "output_type": "stream",
     "text": [
      "d:\\ML\\attention-learn-to-route-master\\AttentionMyTSP_czy\\attention-learn-to-route-master\\utils\\functions.py:40: FutureWarning: You are using `torch.load` with `weights_only=False` (the current default value), which uses the default pickle module implicitly. It is possible to construct malicious pickle data which will execute arbitrary code during unpickling (See https://github.com/pytorch/pytorch/blob/main/SECURITY.md#untrusted-models for more details). In a future release, the default value for `weights_only` will be flipped to `True`. This limits the functions that could be executed during unpickling. Arbitrary objects will no longer be allowed to be loaded via this mode unless they are explicitly allowlisted by the user via `torch.serialization.add_safe_globals`. We recommend you start setting `weights_only=True` for any use case where you don't have full control of the loaded file. Please open an issue on GitHub for any issues related to this experimental feature.\n",
      "  load_data = torch.load(\n"
     ]
    }
   ],
   "source": [
    "# 加载 model\n",
    "model, _ = load_model('outputs/mec_4/demo_4_20241205T222731/')\n"
   ]
  },
  {
   "cell_type": "code",
   "execution_count": 8,
   "metadata": {},
   "outputs": [],
   "source": [
    "# 生成 batch\n",
    "torch.manual_seed(1234)\n",
    "dataset = MEC.make_dataset(size=4, num_samples=1, dependency=model.dependency)\n",
    "# Need a dataloader to batch instances\n",
    "dataloader = DataLoader(dataset, batch_size=1)\n",
    "# Make var works for dicts\n",
    "batch = next(iter(dataloader))\n"
   ]
  },
  {
   "cell_type": "code",
   "execution_count": 9,
   "metadata": {},
   "outputs": [
    {
     "name": "stdout",
     "output_type": "stream",
     "text": [
      "model solution  with dp of  [4, 2]\n",
      "104634.640625  -|-  tensor([1, 3, 4, 2])\n"
     ]
    }
   ],
   "source": [
    "# Run the model\n",
    "model.eval()\n",
    "model.set_decode_type('greedy')\n",
    "\n",
    "with torch.no_grad():\n",
    "    cost, log_p, pi = model(batch, return_pi=True)\n",
    "tours = pi\n",
    "\n",
    "print(\"model solution\",\" with dp of \", [i+1 for i in model.dependency])\n",
    "for i in range(pi.size(0)):\n",
    "   print( cost[i].item(), \" -|- \", pi[i])\n",
    "    \n"
   ]
  },
  {
   "cell_type": "code",
   "execution_count": 10,
   "metadata": {},
   "outputs": [
    {
     "name": "stdout",
     "output_type": "stream",
     "text": [
      "the model cost :  104634.65547349455\n",
      "the model tour :  [1, 3, 4, 2]\n",
      "the fact best loss :  55469.41262838193\n",
      "the fact best tours : \n",
      "[3, 1, 4, 2]\n"
     ]
    },
    {
     "data": {
      "image/png": "[encoded data removed]",
      "text/plain": [
       "<Figure size 500x500 with 1 Axes>"
      ]
     },
     "metadata": {},
     "output_type": "display_data"
    }
   ],
   "source": [
    "# Plot the results\n",
    "for i, (data, tour) in enumerate(zip(dataset, tours)):\n",
    "   fig, ax = plt.subplots(figsize=(5, 5))\n",
    "   plot_mec(data, tour, ax)\n",
    "   tour=tour.cpu().numpy().tolist()\n",
    "   print(\"the model cost : \", getloss(data,tour))\n",
    "   print(\"the model tour : \", tour)\n",
    "   chechformodel(data)\n",
    " \n",
    "plt.show()\n"
   ]
  }
 ],
 "metadata": {
  "kernelspec": {
   "display_name": "d2l-zh",
   "language": "python",
   "name": "python3"
  },
  "language_info": {
   "codemirror_mode": {
    "name": "ipython",
    "version": 3
   },
   "file_extension": ".py",
   "mimetype": "text/x-python",
   "name": "python",
   "nbconvert_exporter": "python",
   "pygments_lexer": "ipython3",
   "version": "3.8.18"
  }
 },
 "nbformat": 4,
 "nbformat_minor": 2
}
