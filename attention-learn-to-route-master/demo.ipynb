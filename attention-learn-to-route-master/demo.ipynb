{
 "cells": [
  {
   "cell_type": "code",
   "execution_count": null,
   "metadata": {},
   "outputs": [],
   "source": [
    "import os\n",
    "import numpy as np\n",
    "import torch"
   ]
  },
  {
   "cell_type": "code",
   "execution_count": null,
   "metadata": {},
   "outputs": [],
   "source": [
    "from torch.utils.data import DataLoader\n",
    "from generate_data import generate_mec_data\n",
    "from utils import load_model\n",
    "from problems import MEC"
   ]
  },
  {
   "cell_type": "code",
   "execution_count": null,
   "metadata": {},
   "outputs": [],
   "source": [
    "# 加载 model\n",
    "model, _ = load_model('outputs/mec_6/demo_6_20241205T021257/')"
   ]
  },
  {
   "cell_type": "code",
   "execution_count": null,
   "metadata": {},
   "outputs": [],
   "source": [
    "# 生成 batch\n",
    "torch.manual_seed(1234)\n",
    "dataset = MEC.make_dataset(size=6, num_samples=2, dependency=model.dependency)\n",
    "# Need a dataloader to batch instances\n",
    "dataloader = DataLoader(dataset, batch_size=1)\n",
    "# Make var works for dicts\n",
    "batch = next(iter(dataloader))"
   ]
  },
  {
   "cell_type": "code",
   "execution_count": null,
   "metadata": {},
   "outputs": [],
   "source": [
    "# Run the model\n",
    "model.eval()\n",
    "model.set_decode_type('greedy')\n",
    "\n",
    "with torch.no_grad():\n",
    "    cost, log_p, pi = model(batch, return_pi=True)\n",
    "tours = pi\n",
    "\n",
    "print(\"model solution\",\" with dp of \", [i+1 for i in model.dependency])\n",
    "for i in range(pi.size(0)):\n",
    "   print( cost[i].item(), \" -|- \", pi[i])\n"
   ]
  },
  {
   "cell_type": "code",
   "execution_count": null,
   "metadata": {},
   "outputs": [],
   "source": [
    "# 定义 plot\n",
    "%matplotlib inline\n",
    "from matplotlib import pyplot as plt\n",
    "\n",
    "from matplotlib.collections import PatchCollection\n",
    "from matplotlib.patches import Rectangle\n",
    "from matplotlib.lines import Line2D\n",
    "\n",
    "# Code inspired by Google OR Tools plot:\n",
    "# https://github.com/google/or-tools/blob/fb12c5ded7423d524fc6c95656a9bdc290a81d4d/examples/python/cvrptw_plot.py\n",
    "\n",
    "def plot_mec(data, tour, ax):\n",
    "    \n",
    "    depot = data['UAV_start_pos'].cpu().numpy().tolist()\n",
    "    locs = data['task_position'].cpu().numpy().tolist()\n",
    "    tour = tour.cpu().numpy().tolist()\n",
    "    \n",
    "    loc = depot + locs\n",
    "    tour = [0] + tour \n",
    "    # 提取按照 tour 顺序排列的坐标\n",
    "    x_vals = [loc[i][0] for i in tour]\n",
    "    y_vals = [loc[i][1] for i in tour]\n",
    "    \n",
    "    # 绘制路径线\n",
    "    ax.plot(x_vals, y_vals, marker='o', linestyle='-', color='b', label='Path')\n",
    "\n",
    "    # 可选: 在每对相邻的点之间绘制箭头\n",
    "    for i in range(len(tour) - 1):\n",
    "        x_start, y_start = loc[tour[i]]\n",
    "        x_end, y_end = loc[tour[i+1]]\n",
    "        \n",
    "        # 在两个点之间画箭头，箭头的大小和样式可以调整\n",
    "        ax.annotate('', xy=(x_end, y_end), xytext=(x_start, y_start),\n",
    "                    arrowprops=dict(facecolor='black', edgecolor='black', arrowstyle='->', lw=2, mutation_scale=20))\n",
    "\n",
    "    # 可选: 标注每个点\n",
    "    for i, (x, y) in enumerate(zip(x_vals, y_vals)):\n",
    "        ax.text(x, y, f'{tour[i]}', fontsize=30, ha='right', color='red')\n",
    "    \n",
    "    # 可选: 绘制第一个和最后一个点的线段，表示起点和终点\n",
    "    ax.plot([x_vals[0], x_vals[-1]], [y_vals[0], y_vals[-1]], '-', label='Start-End')\n",
    "    \n",
    "    ax.set_xlabel('X')\n",
    "    ax.set_ylabel('Y')\n",
    "    ax.set_title('MEC Path with Arrows')\n",
    "    ax.legend()\n",
    "    "
   ]
  },
  {
   "cell_type": "code",
   "execution_count": null,
   "metadata": {},
   "outputs": [],
   "source": [
    "from demopts import *\n",
    "# 求 loss\n",
    "def getloss(p):\n",
    "    return\n",
    "# 求最优解\n",
    "def chechformodel(data):\n",
    "    locs = data['task_position'].cpu().numpy().tolist()\n",
    "    depot = data['UAV_start_pos'].cpu().numpy().tolist()\n",
    "    \n",
    "\n",
    "    # load data\n",
    "\n",
    "    dependency = data[\"dependency\"]\n",
    "    task_position = data[\"task_position\"]\n",
    "    time_window = data[\"time_window\"]\n",
    "    UAV_start_pos = data[\"UAV_start_pos\"]\n",
    "    task_data = data[\"task_data\"]\n",
    "    IoT_resource = data[\"IoT_resource\"]\n",
    "    UAV_resource = data[\"UAV_resource\"]\n",
    "    CPU_circles = data[\"CPU_circles\"]\n",
    "    task_num = task_position.shape[0]\n",
    "    upload_time = task_data / upload_speed\n",
    "    UAV_execute_time = CPU_circles / UAV_resource\n",
    "    UAV_execute_energy = UAV_execute_time * UAV_p\n",
    "    UAV_transmit_energy = upload_time * UAV_p\n",
    "    IoT_execute_time = CPU_circles / IoT_resource\n",
    "    IoT_execute_energy = switched_capacitance * pow(IoT_resource, v - 1) * CPU_circles\n",
    "\n",
    "    print(\"the fact best loss\")\n"
   ]
  },
  {
   "cell_type": "code",
   "execution_count": null,
   "metadata": {},
   "outputs": [],
   "source": [
    "# Plot the results\n",
    "for i, (data, tour) in enumerate(zip(dataset, tours)):\n",
    "   print(\"the model tour : \", tour)\n",
    "   fig, ax = plt.subplots(figsize=(5, 5))\n",
    "   plot_mec(data, tour, ax)\n",
    "   chechformodel(data)\n",
    "\n",
    "plt.show()\n"
   ]
  }
 ],
 "metadata": {
  "kernelspec": {
   "display_name": "d2l-zh",
   "language": "python",
   "name": "python3"
  },
  "language_info": {
   "codemirror_mode": {
    "name": "ipython",
    "version": 3
   },
   "file_extension": ".py",
   "mimetype": "text/x-python",
   "name": "python",
   "nbconvert_exporter": "python",
   "pygments_lexer": "ipython3",
   "version": "3.8.18"
  }
 },
 "nbformat": 4,
 "nbformat_minor": 2
}
